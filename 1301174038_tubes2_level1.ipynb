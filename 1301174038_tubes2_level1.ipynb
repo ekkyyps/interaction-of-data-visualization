{
 "cells": [
  {
   "cell_type": "code",
   "execution_count": 1,
   "metadata": {},
   "outputs": [],
   "source": [
    "import pandas as pd\n",
    "import numpy as np"
   ]
  },
  {
   "cell_type": "code",
   "execution_count": 2,
   "metadata": {},
   "outputs": [],
   "source": [
    "# read dataset\n",
    "data = pd.read_csv('C:\\\\Users\\\\Asus\\\\visdat\\\\stock_market.csv', parse_dates=[0])"
   ]
  },
  {
   "cell_type": "code",
   "execution_count": 3,
   "metadata": {},
   "outputs": [
    {
     "data": {
      "text/html": [
       "<div>\n",
       "<style scoped>\n",
       "    .dataframe tbody tr th:only-of-type {\n",
       "        vertical-align: middle;\n",
       "    }\n",
       "\n",
       "    .dataframe tbody tr th {\n",
       "        vertical-align: top;\n",
       "    }\n",
       "\n",
       "    .dataframe thead th {\n",
       "        text-align: right;\n",
       "    }\n",
       "</style>\n",
       "<table border=\"1\" class=\"dataframe\">\n",
       "  <thead>\n",
       "    <tr style=\"text-align: right;\">\n",
       "      <th></th>\n",
       "      <th>Date</th>\n",
       "      <th>Adj Close</th>\n",
       "      <th>Volume</th>\n",
       "      <th>Day_Perc_Change</th>\n",
       "      <th>Name</th>\n",
       "    </tr>\n",
       "  </thead>\n",
       "  <tbody>\n",
       "    <tr>\n",
       "      <td>0</td>\n",
       "      <td>2018-10-22</td>\n",
       "      <td>26153.150391</td>\n",
       "      <td>2.222812e+09</td>\n",
       "      <td>2.315014</td>\n",
       "      <td>HANG SENG</td>\n",
       "    </tr>\n",
       "    <tr>\n",
       "      <td>1</td>\n",
       "      <td>2018-10-23</td>\n",
       "      <td>25346.550781</td>\n",
       "      <td>1.772912e+09</td>\n",
       "      <td>-3.084139</td>\n",
       "      <td>HANG SENG</td>\n",
       "    </tr>\n",
       "    <tr>\n",
       "      <td>2</td>\n",
       "      <td>2018-10-24</td>\n",
       "      <td>25249.779297</td>\n",
       "      <td>1.962754e+09</td>\n",
       "      <td>-0.381794</td>\n",
       "      <td>HANG SENG</td>\n",
       "    </tr>\n",
       "    <tr>\n",
       "      <td>3</td>\n",
       "      <td>2018-10-25</td>\n",
       "      <td>24994.460938</td>\n",
       "      <td>2.288634e+09</td>\n",
       "      <td>-1.011171</td>\n",
       "      <td>HANG SENG</td>\n",
       "    </tr>\n",
       "    <tr>\n",
       "      <td>4</td>\n",
       "      <td>2018-10-26</td>\n",
       "      <td>24717.630859</td>\n",
       "      <td>1.688396e+09</td>\n",
       "      <td>-1.107566</td>\n",
       "      <td>HANG SENG</td>\n",
       "    </tr>\n",
       "  </tbody>\n",
       "</table>\n",
       "</div>"
      ],
      "text/plain": [
       "        Date     Adj Close        Volume  Day_Perc_Change       Name\n",
       "0 2018-10-22  26153.150391  2.222812e+09         2.315014  HANG SENG\n",
       "1 2018-10-23  25346.550781  1.772912e+09        -3.084139  HANG SENG\n",
       "2 2018-10-24  25249.779297  1.962754e+09        -0.381794  HANG SENG\n",
       "3 2018-10-25  24994.460938  2.288634e+09        -1.011171  HANG SENG\n",
       "4 2018-10-26  24717.630859  1.688396e+09        -1.107566  HANG SENG"
      ]
     },
     "execution_count": 3,
     "metadata": {},
     "output_type": "execute_result"
    }
   ],
   "source": [
    "data.head()"
   ]
  },
  {
   "cell_type": "code",
   "execution_count": 4,
   "metadata": {},
   "outputs": [
    {
     "data": {
      "text/plain": [
       "Date               datetime64[ns]\n",
       "Adj Close                 float64\n",
       "Volume                    float64\n",
       "Day_Perc_Change           float64\n",
       "Name                       object\n",
       "dtype: object"
      ]
     },
     "execution_count": 4,
     "metadata": {},
     "output_type": "execute_result"
    }
   ],
   "source": [
    "data.dtypes"
   ]
  },
  {
   "cell_type": "markdown",
   "metadata": {},
   "source": [
    "__VISUALIZATION__"
   ]
  },
  {
   "cell_type": "markdown",
   "metadata": {},
   "source": [
    "__LEVEL 1__"
   ]
  },
  {
   "cell_type": "markdown",
   "metadata": {},
   "source": [
    "Adj Close"
   ]
  },
  {
   "cell_type": "code",
   "execution_count": 5,
   "metadata": {},
   "outputs": [],
   "source": [
    "from bokeh.io import output_notebook\n",
    "from bokeh.io import output_file\n",
    "from bokeh.plotting import figure, show\n",
    "from bokeh.models import ColumnDataSource, CDSView, GroupFilter\n",
    "\n",
    "# The figure will be right in my Jupyter Notebook\n",
    "output_file('adj-close.html', \n",
    "            title='level 1')\n",
    "\n",
    "# Create CDS\n",
    "data_cds = ColumnDataSource(data)\n",
    "\n",
    "# Create views for each name\n",
    "hangseng_view = CDSView(source=data_cds,\n",
    "                      filters=[GroupFilter(column_name='Name', \n",
    "                                           group='HANG SENG')])\n",
    "nasdaq_view = CDSView(source=data_cds,\n",
    "                      filters=[GroupFilter(column_name='Name', \n",
    "                                           group='NASDAQ')])\n",
    "nikkei_view = CDSView(source=data_cds,\n",
    "                      filters=[GroupFilter(column_name='Name', \n",
    "                                           group='NIKKEI')])"
   ]
  },
  {
   "cell_type": "code",
   "execution_count": 6,
   "metadata": {},
   "outputs": [],
   "source": [
    "# Create and configure the figure\n",
    "adj_fig = figure(x_axis_type = 'datetime',\n",
    "                  plot_height=400, plot_width=800,\n",
    "                  x_axis_label='Date', y_axis_label='Adj Close',\n",
    "                  title='Adj Close of Hang Seng, Nasdaq, and Nikkei',\n",
    "                  toolbar_location='right')"
   ]
  },
  {
   "cell_type": "code",
   "execution_count": 7,
   "metadata": {},
   "outputs": [
    {
     "data": {
      "text/html": [
       "<div style=\"display: table;\"><div style=\"display: table-row;\"><div style=\"display: table-cell;\"><b title=\"bokeh.models.renderers.GlyphRenderer\">GlyphRenderer</b>(</div><div style=\"display: table-cell;\">id&nbsp;=&nbsp;'1094', <span id=\"1117\" style=\"cursor: pointer;\">&hellip;)</span></div></div><div class=\"1116\" style=\"display: none;\"><div style=\"display: table-cell;\"></div><div style=\"display: table-cell;\">data_source&nbsp;=&nbsp;ColumnDataSource(id='1001', ...),</div></div><div class=\"1116\" style=\"display: none;\"><div style=\"display: table-cell;\"></div><div style=\"display: table-cell;\">glyph&nbsp;=&nbsp;Line(id='1092', ...),</div></div><div class=\"1116\" style=\"display: none;\"><div style=\"display: table-cell;\"></div><div style=\"display: table-cell;\">hover_glyph&nbsp;=&nbsp;None,</div></div><div class=\"1116\" style=\"display: none;\"><div style=\"display: table-cell;\"></div><div style=\"display: table-cell;\">js_event_callbacks&nbsp;=&nbsp;{},</div></div><div class=\"1116\" style=\"display: none;\"><div style=\"display: table-cell;\"></div><div style=\"display: table-cell;\">js_property_callbacks&nbsp;=&nbsp;{},</div></div><div class=\"1116\" style=\"display: none;\"><div style=\"display: table-cell;\"></div><div style=\"display: table-cell;\">level&nbsp;=&nbsp;'glyph',</div></div><div class=\"1116\" style=\"display: none;\"><div style=\"display: table-cell;\"></div><div style=\"display: table-cell;\">muted&nbsp;=&nbsp;False,</div></div><div class=\"1116\" style=\"display: none;\"><div style=\"display: table-cell;\"></div><div style=\"display: table-cell;\">muted_glyph&nbsp;=&nbsp;None,</div></div><div class=\"1116\" style=\"display: none;\"><div style=\"display: table-cell;\"></div><div style=\"display: table-cell;\">name&nbsp;=&nbsp;None,</div></div><div class=\"1116\" style=\"display: none;\"><div style=\"display: table-cell;\"></div><div style=\"display: table-cell;\">nonselection_glyph&nbsp;=&nbsp;Line(id='1093', ...),</div></div><div class=\"1116\" style=\"display: none;\"><div style=\"display: table-cell;\"></div><div style=\"display: table-cell;\">selection_glyph&nbsp;=&nbsp;None,</div></div><div class=\"1116\" style=\"display: none;\"><div style=\"display: table-cell;\"></div><div style=\"display: table-cell;\">subscribed_events&nbsp;=&nbsp;[],</div></div><div class=\"1116\" style=\"display: none;\"><div style=\"display: table-cell;\"></div><div style=\"display: table-cell;\">tags&nbsp;=&nbsp;[],</div></div><div class=\"1116\" style=\"display: none;\"><div style=\"display: table-cell;\"></div><div style=\"display: table-cell;\">view&nbsp;=&nbsp;CDSView(id='1007', ...),</div></div><div class=\"1116\" style=\"display: none;\"><div style=\"display: table-cell;\"></div><div style=\"display: table-cell;\">visible&nbsp;=&nbsp;True,</div></div><div class=\"1116\" style=\"display: none;\"><div style=\"display: table-cell;\"></div><div style=\"display: table-cell;\">x_range_name&nbsp;=&nbsp;'default',</div></div><div class=\"1116\" style=\"display: none;\"><div style=\"display: table-cell;\"></div><div style=\"display: table-cell;\">y_range_name&nbsp;=&nbsp;'default')</div></div></div>\n",
       "<script>\n",
       "(function() {\n",
       "  var expanded = false;\n",
       "  var ellipsis = document.getElementById(\"1117\");\n",
       "  ellipsis.addEventListener(\"click\", function() {\n",
       "    var rows = document.getElementsByClassName(\"1116\");\n",
       "    for (var i = 0; i < rows.length; i++) {\n",
       "      var el = rows[i];\n",
       "      el.style.display = expanded ? \"none\" : \"table-row\";\n",
       "    }\n",
       "    ellipsis.innerHTML = expanded ? \"&hellip;)\" : \"&lsaquo;&lsaquo;&lsaquo;\";\n",
       "    expanded = !expanded;\n",
       "  });\n",
       "})();\n",
       "</script>\n"
      ],
      "text/plain": [
       "GlyphRenderer(id='1094', ...)"
      ]
     },
     "execution_count": 7,
     "metadata": {},
     "output_type": "execute_result"
    }
   ],
   "source": [
    "# Render the race as step lines\n",
    "adj_fig.line('Date', 'Adj Close', \n",
    "              color='darkgreen', source=data_cds, legend='Hang Seng', view=hangseng_view)\n",
    "adj_fig.line('Date', 'Adj Close', \n",
    "              color='darkblue', source=data_cds, legend='Nasdaq', view=nasdaq_view)\n",
    "adj_fig.line('Date', 'Adj Close', \n",
    "              color='darkgoldenrod', source=data_cds, legend='Nikkei', view=nikkei_view)"
   ]
  },
  {
   "cell_type": "code",
   "execution_count": 8,
   "metadata": {},
   "outputs": [],
   "source": [
    "# show(line_fig)\n",
    "# Move the legend to the upper left corner\n",
    "adj_fig.legend.orientation = 'horizontal'\n",
    "adj_fig.legend.location = 'top_right'\n",
    "adj_fig.legend.label_text_font_size = '8px'"
   ]
  },
  {
   "cell_type": "code",
   "execution_count": 9,
   "metadata": {},
   "outputs": [],
   "source": [
    "# Bokeh Library\n",
    "from bokeh.models import HoverTool\n",
    "\n",
    "# Format the tooltip\n",
    "tooltips = [\n",
    "            ('Name','@Name'),\n",
    "            ('Adj Close', '@{Adj Close}')\n",
    "           ]\n",
    "\n",
    "# Add the HoverTool to the figure\n",
    "adj_fig.add_tools(HoverTool(tooltips=tooltips))\n",
    "\n",
    "# Visualize\n",
    "show(adj_fig)"
   ]
  }
 ],
 "metadata": {
  "kernelspec": {
   "display_name": "Python 3",
   "language": "python",
   "name": "python3"
  },
  "language_info": {
   "codemirror_mode": {
    "name": "ipython",
    "version": 3
   },
   "file_extension": ".py",
   "mimetype": "text/x-python",
   "name": "python",
   "nbconvert_exporter": "python",
   "pygments_lexer": "ipython3",
   "version": "3.7.4"
  }
 },
 "nbformat": 4,
 "nbformat_minor": 2
}
